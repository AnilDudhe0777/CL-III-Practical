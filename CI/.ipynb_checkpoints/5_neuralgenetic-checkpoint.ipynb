{
 "cells": [
  {
   "cell_type": "code",
   "execution_count": 14,
   "id": "9cb3d609",
   "metadata": {},
   "outputs": [
    {
     "name": "stderr",
     "output_type": "stream",
     "text": [
      "C:\\Users\\anild\\anaconda3\\Lib\\site-packages\\deap\\creator.py:185: RuntimeWarning: A class named 'FitnessMin' has already been created and it will be overwritten. Consider deleting previous creation of that class or rename it.\n",
      "  warnings.warn(\"A class named '{0}' has already been created and it \"\n",
      "C:\\Users\\anild\\anaconda3\\Lib\\site-packages\\deap\\creator.py:185: RuntimeWarning: A class named 'Individual' has already been created and it will be overwritten. Consider deleting previous creation of that class or rename it.\n",
      "  warnings.warn(\"A class named '{0}' has already been created and it \"\n"
     ]
    },
    {
     "name": "stdout",
     "output_type": "stream",
     "text": [
      "gen\tnevals\n",
      "0  \t15    \n",
      "1  \t14    \n",
      "2  \t13    \n",
      "3  \t7     \n",
      "4  \t9     \n",
      "5  \t10    \n",
      "6  \t10    \n",
      "7  \t11    \n",
      "8  \t10    \n",
      "9  \t5     \n",
      "10 \t13    \n",
      "\n",
      "✅ Best Parameters Found:\n",
      "Population Size: 99\n",
      "Crossover Rate:  0.544\n",
      "Mutation Rate:   0.076\n"
     ]
    }
   ],
   "source": [
    "import random\n",
    "import numpy as np\n",
    "import pandas as pd\n",
    "from sklearn.neural_network import MLPRegressor\n",
    "from sklearn.model_selection import train_test_split\n",
    "from sklearn.metrics import mean_squared_error\n",
    "from deap import base, creator, tools, algorithms\n",
    "\n",
    "# Sample synthetic dataset\n",
    "np.random.seed(42)\n",
    "X = np.random.rand(100, 5)  # Features\n",
    "y = np.random.rand(100)     # Target\n",
    "\n",
    "# Normalize inputs (optional but helps)\n",
    "from sklearn.preprocessing import StandardScaler\n",
    "scaler = StandardScaler()\n",
    "X = scaler.fit_transform(X)\n",
    "\n",
    "# 2. Split data\n",
    "X_train, X_test, y_train, y_test = train_test_split(X, y, test_size=0.2, random_state=42)\n",
    "\n",
    "# 3. Fitness function for DEAP\n",
    "def eval_nn(individual):\n",
    "    pop_size, cx_rate, mut_rate = int(individual[0]), individual[1], individual[2]\n",
    "\n",
    "    # Train NN once per individual\n",
    "    model = MLPRegressor(hidden_layer_sizes=(100, 50), max_iter=500, random_state=42)\n",
    "    model.fit(X_train, y_train)\n",
    "    y_pred = model.predict(X_test)\n",
    "    mse = mean_squared_error(y_test, y_pred)\n",
    "    return (mse,)\n",
    "\n",
    "# 4. DEAP Setup\n",
    "creator.create(\"FitnessMin\", base.Fitness, weights=(-1.0,))\n",
    "creator.create(\"Individual\", list, fitness=creator.FitnessMin)\n",
    "\n",
    "toolbox = base.Toolbox()\n",
    "toolbox.register(\"population_size\", random.randint, 20, 200)\n",
    "toolbox.register(\"crossover_rate\", random.uniform, 0.5, 0.9)\n",
    "toolbox.register(\"mutation_rate\", random.uniform, 0.01, 0.2)\n",
    "\n",
    "toolbox.register(\"individual\", tools.initCycle, creator.Individual,\n",
    "                 (toolbox.population_size, toolbox.crossover_rate, toolbox.mutation_rate), n=1)\n",
    "toolbox.register(\"population\", tools.initRepeat, list, toolbox.individual)\n",
    "toolbox.register(\"evaluate\", eval_nn)\n",
    "toolbox.register(\"mate\", tools.cxBlend, alpha=0.5)\n",
    "toolbox.register(\"mutate\", tools.mutGaussian, mu=0, sigma=0.05, indpb=0.3)\n",
    "toolbox.register(\"select\", tools.selTournament, tournsize=3)\n",
    "\n",
    "# 5. Run GA\n",
    "population = toolbox.population(n=15)\n",
    "algorithms.eaSimple(population, toolbox, cxpb=0.5, mutpb=0.3, ngen=10, verbose=True)\n",
    "\n",
    "# 6. Get best individual\n",
    "best_ind = tools.selBest(population, k=1)[0]\n",
    "print(\"\\n✅ Best Parameters Found:\")\n",
    "print(f\"Population Size: {int(best_ind[0])}\")\n",
    "print(f\"Crossover Rate:  {best_ind[1]:.3f}\")\n",
    "print(f\"Mutation Rate:   {best_ind[2]:.3f}\")"
   ]
  },
  {
   "cell_type": "code",
   "execution_count": null,
   "id": "5a323908-479e-4d69-96c3-0bf49e20f80f",
   "metadata": {},
   "outputs": [],
   "source": []
  }
 ],
 "metadata": {
  "kernelspec": {
   "display_name": "Python [conda env:base] *",
   "language": "python",
   "name": "conda-base-py"
  },
  "language_info": {
   "codemirror_mode": {
    "name": "ipython",
    "version": 3
   },
   "file_extension": ".py",
   "mimetype": "text/x-python",
   "name": "python",
   "nbconvert_exporter": "python",
   "pygments_lexer": "ipython3",
   "version": "3.12.3"
  }
 },
 "nbformat": 4,
 "nbformat_minor": 5
}
